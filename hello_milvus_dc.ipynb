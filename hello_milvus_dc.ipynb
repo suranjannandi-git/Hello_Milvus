{
 "cells": [
  {
   "cell_type": "code",
   "execution_count": 10,
   "metadata": {},
   "outputs": [],
   "source": [
    "# %pip install pymilvus"
   ]
  },
  {
   "cell_type": "code",
   "execution_count": 11,
   "metadata": {},
   "outputs": [
    {
     "name": "stdout",
     "output_type": "stream",
     "text": [
      "Distance: [18.10807228088379, 18.551435470581055, 19.042877197265625, 19.378337860107422, 19.38062286376953], ID: [450012791209465163, 450023491085533378, 450023491085533385, 450012791209465143, 450023491085533384]\n"
     ]
    }
   ],
   "source": [
    "from pymilvus import connections, utility, FieldSchema, CollectionSchema, DataType, Collection\n",
    "\n",
    "# Connect to the Milvus server\n",
    "connections.connect(\"default\", host=\"localhost\", port=\"19530\")\n",
    "\n",
    "# Check if connected\n",
    "if not connections.has_connection(\"default\"):\n",
    "    raise Exception(\"Failed to connect to Milvus\")\n",
    "\n",
    "# Define a simple schema\n",
    "fields = [\n",
    "    FieldSchema(name=\"id\", dtype=DataType.INT64, is_primary=True, auto_id=True),\n",
    "    FieldSchema(name=\"embedding\", dtype=DataType.FLOAT_VECTOR, dim=128)\n",
    "]\n",
    "schema = CollectionSchema(fields, \"example collection\")\n",
    "\n",
    "# Create a collection\n",
    "collection = Collection(name=\"example_collection\", schema=schema)\n",
    "\n",
    "# Insert data into the collection\n",
    "import numpy as np\n",
    "\n",
    "data = [\n",
    "    [np.random.random(128).tolist() for _ in range(10)]  # embeddings\n",
    "]\n",
    "collection.insert(data)\n",
    "\n",
    "# Flush to ensure data is persisted\n",
    "collection.flush()\n",
    "\n",
    "# Create an index on the collection\n",
    "index_params = {\n",
    "    \"metric_type\": \"L2\",\n",
    "    \"index_type\": \"IVF_FLAT\",\n",
    "    \"params\": {\"nlist\": 1024}\n",
    "}\n",
    "collection.create_index(field_name=\"embedding\", index_params=index_params)\n",
    "\n",
    "# Load the collection into memory\n",
    "collection.load()\n",
    "\n",
    "# Perform a search\n",
    "search_params = {\n",
    "    \"metric_type\": \"L2\",\n",
    "    \"params\": {\"nprobe\": 10}\n",
    "}\n",
    "vectors_to_search = [np.random.random(128).tolist()]\n",
    "results = collection.search(vectors_to_search, \"embedding\", param=search_params, limit=5)\n",
    "\n",
    "# Display search results\n",
    "for result in results:\n",
    "    print(f\"Distance: {result.distances}, ID: {result.ids}\")\n",
    "\n",
    "# Disconnect\n",
    "connections.disconnect(\"default\")\n"
   ]
  }
 ],
 "metadata": {
  "kernelspec": {
   "display_name": "Python 3",
   "language": "python",
   "name": "python3"
  },
  "language_info": {
   "codemirror_mode": {
    "name": "ipython",
    "version": 3
   },
   "file_extension": ".py",
   "mimetype": "text/x-python",
   "name": "python",
   "nbconvert_exporter": "python",
   "pygments_lexer": "ipython3",
   "version": "3.11.9"
  }
 },
 "nbformat": 4,
 "nbformat_minor": 2
}
